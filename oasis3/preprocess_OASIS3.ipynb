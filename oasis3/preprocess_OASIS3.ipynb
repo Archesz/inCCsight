{
 "cells": [
  {
   "cell_type": "code",
   "execution_count": 39,
   "metadata": {},
   "outputs": [],
   "source": [
    "import glob\n",
    "import os\n",
    "from pathlib import Path\n",
    "import os, sqlite3, glob\n",
    "from subprocess import call\n",
    "\n",
    "def pre_process(candidate, pre_process_type):\n",
    "    log_filename = '{}/log.txt'.format(candidate)\n",
    "    logfile = open(log_filename, 'wb')\n",
    "    \n",
    "    ######## Diffusion files\n",
    "    # Dicom to nifti conversion\n",
    "    if pre_process_type == 'compute_nifti_DTI':\n",
    "        if len(glob.glob('{}/diffusion.nii.gz'.format(candidate))) == 0:\n",
    "            ls = glob.glob('{}/*{}*'.format(candidate, DWI_KEY))\n",
    "            print('Converting diffusion DICOM to Nifti...')\n",
    "            if len(ls) != 1:\n",
    "                logfile.write(b'DWI file is not present!')\n",
    "                return 2\n",
    "            dwi_dicom_filename = ls[0].split('/')[-1]\n",
    "\n",
    "            #if call([dcm2nii, '-a', 'Y', '-b', '{}'.format(DCM2NII_CFG), '{}/{}.dcm'.format(candidate, dwi_dicom_filename)],\n",
    "            #        stdout=logfile, stderr=logfile):\n",
    "            if call([dcm2nii, '-f', 'diffusion', '-ba', 'y', '-z', 'i', '-6', '-s', 'y',\n",
    "                     '{}/{}'.format(candidate, dwi_dicom_filename)], stdout=logfile, stderr=logfile):\n",
    "                logfile.write(b'Fail while trying DWI DICOM to NifTi!')\n",
    "                return 2\n",
    "\n",
    "    # Brain extraction diffusion\n",
    "    elif pre_process_type == 'brain_extraction_DTI':\n",
    "        if len(glob.glob('{}/nodif_brain_mask.nii.gz'.format(candidate)))==0:\n",
    "            print('Extracting diffusion brain...')\n",
    "            if call(['bet', '{}/diffusion'.format(candidate), '{}/nodif_brain'.format(candidate), '-m', '-f',\n",
    "                     '0.1', '-R'], stdout=logfile, stderr=logfile):\n",
    "                logfile.write(b'Fail while extracting brain!')\n",
    "                return 2\n",
    "            call(['rm', '{}/nodif_brain.nii.gz'.format(candidate)], stdout=logfile, stderr=logfile)\n",
    "\n",
    "    # DTI and scalar maps calculation\n",
    "    elif pre_process_type == 'compute_DTI':\n",
    "        if len(glob.glob('{}/dti_L1.nii.gz'.format(candidate)))==0:\n",
    "            print('Calculating DTI...')\n",
    "            if call(['dtifit', '-k', '{}/diffusion'.format(candidate), '-o', '{}/dti'.format(candidate),'-m',\n",
    "                     '{}/nodif_brain_mask'.format(candidate), '-r', '{}/diffusion.bvec'.format(candidate),\n",
    "                     '-b', '{}/diffusion.bval'.format(candidate)], stdout=logfile, stderr=logfile):\n",
    "                logfile.write(b'Fail while generating DTI volume!')\n",
    "                return 2\n",
    "            \n",
    "    # Dicom to nifti conversion\n",
    "    elif pre_process_type == 'compute_nifti_T1':\n",
    "        if len(glob.glob('{}/T1.nii.gz'.format(candidate))) == 0:\n",
    "            ls = glob.glob('{}/*{}*'.format(candidate, T1_KEY))\n",
    "            print('Converting T1 DICOM to Nifti...')\n",
    "            if len(ls) != 1:\n",
    "                logfile.write(b'T1 file is not present!')\n",
    "                return 2\n",
    "            t1_dicom_filename = ls[0].split('/')[-1]\n",
    "\n",
    "            if call([dcm2nii, '-f', 'T1', '-ba', 'y', '-z', 'i', '-6', '-s', 'y',\n",
    "                     '{}/{}'.format(candidate, t1_dicom_filename)], stdout=logfile, stderr=logfile):\n",
    "                logfile.write(b'Fail while trying T1 DICOM to NifTi.')\n",
    "                return 2\n",
    "    \n",
    "    else:\n",
    "        print('Unknown pre-processing')\n",
    "        return 1\n",
    "    return 0"
   ]
  },
  {
   "cell_type": "markdown",
   "metadata": {},
   "source": [
    "### Get folder directions\n",
    "\n",
    "Files downloaded from OASIS3 dataset\n",
    "Configurations:\n",
    "* 1) Scan Formats: BIDS and NIFTI\n",
    "* 2) Scan Types: dwi\n",
    "* 3) Download options: Include subject in file paths / Simplify downloaded archive structure"
   ]
  },
  {
   "cell_type": "code",
   "execution_count": 60,
   "metadata": {},
   "outputs": [
    {
     "data": {
      "text/plain": [
       "['/media/thais-caldeira/HD/Unicamp/Mestrado/thais.caldeira-20210107_140347/OAS30001/OAS30001_MR_d0757/dwi1/NIFTI/sub-OAS30001_ses-d0757_dwi.nii.gz',\n",
       " '/media/thais-caldeira/HD/Unicamp/Mestrado/thais.caldeira-20210107_140347/OAS30003/OAS30003_MR_d1631/dwi1/NIFTI/sub-OAS30003_ses-d1631_run-01_dwi.nii.gz',\n",
       " '/media/thais-caldeira/HD/Unicamp/Mestrado/thais.caldeira-20210107_140347/OAS30003/OAS30003_MR_d1631/dwi2/NIFTI/sub-OAS30003_ses-d1631_run-02_dwi.nii.gz',\n",
       " '/media/thais-caldeira/HD/Unicamp/Mestrado/thais.caldeira-20210107_140347/OAS30004/OAS30004_MR_d2232/dwi1/NIFTI/sub-OAS30004_ses-d2232_run-01_dwi.nii.gz',\n",
       " '/media/thais-caldeira/HD/Unicamp/Mestrado/thais.caldeira-20210107_140347/OAS30004/OAS30004_MR_d2232/dwi2/NIFTI/sub-OAS30004_ses-d2232_run-02_dwi.nii.gz',\n",
       " '/media/thais-caldeira/HD/Unicamp/Mestrado/thais.caldeira-20210107_140347/OAS30005/OAS30005_MR_d2384/dwi1/NIFTI/sub-OAS30005_ses-d2384_run-01_dwi.nii.gz',\n",
       " '/media/thais-caldeira/HD/Unicamp/Mestrado/thais.caldeira-20210107_140347/OAS30005/OAS30005_MR_d2384/dwi2/NIFTI/sub-OAS30005_ses-d2384_run-02_dwi.nii.gz',\n",
       " '/media/thais-caldeira/HD/Unicamp/Mestrado/thais.caldeira-20210107_140347/OAS30006/OAS30006_MR_d0373/dwi1/NIFTI/sub-OAS30006_ses-d0373_dwi.nii.gz']"
      ]
     },
     "execution_count": 60,
     "metadata": {},
     "output_type": "execute_result"
    }
   ],
   "source": [
    "PARENT_FOLDER = '/media/thais-caldeira/HD/Unicamp/Mestrado/thais.caldeira-20210107_140347'\n",
    "\n",
    "files = [i for i in glob.glob('{}/**/*.nii.gz'.format(PARENT_FOLDER), recursive=True)]\n",
    "files"
   ]
  },
  {
   "cell_type": "markdown",
   "metadata": {},
   "source": [
    "### Backup and rename files"
   ]
  },
  {
   "cell_type": "code",
   "execution_count": 84,
   "metadata": {},
   "outputs": [
    {
     "name": "stdout",
     "output_type": "stream",
     "text": [
      "Backup file: sub-OAS30001_ses-d0757_dwi.nii.gz\n",
      "Backup file: sub-OAS30003_ses-d1631_run-01_dwi.nii.gz\n",
      "Backup file: sub-OAS30003_ses-d1631_run-02_dwi.nii.gz\n",
      "Backup file: sub-OAS30004_ses-d2232_run-01_dwi.nii.gz\n",
      "Backup file: sub-OAS30004_ses-d2232_run-02_dwi.nii.gz\n",
      "Backup file: sub-OAS30005_ses-d2384_run-01_dwi.nii.gz\n",
      "Backup file: sub-OAS30005_ses-d2384_run-02_dwi.nii.gz\n",
      "Backup file: sub-OAS30006_ses-d0373_dwi.nii.gz\n"
     ]
    }
   ],
   "source": [
    "MAIN_FOLDER = '/media/thais-caldeira/HD/Unicamp/Mestrado/OASIS3'\n",
    "TO_PROCESS = []\n",
    "\n",
    "for file in files:\n",
    "    \n",
    "    print('Backup file: {}'.format(os.path.basename(file)))\n",
    "    \n",
    "    # Get folder name\n",
    "    NEW_FOLDER = os.path.basename(file).rsplit('.')[0]\n",
    "    \n",
    "    # Create folder inside MAIN_FOLDER\n",
    "    NEW_FOLDER_PATH = '{}/{}'.format(MAIN_FOLDER, NEW_FOLDER)\n",
    "    Path(NEW_FOLDER_PATH).mkdir(parents=True, exist_ok=True)\n",
    "    TO_PROCESS.append(NEW_FOLDER_PATH)\n",
    "    \n",
    "    # Copy dwi file into new folder\n",
    "    ORIGIN = file\n",
    "    DESTIN = '{}/{}/{}'.format(MAIN_FOLDER, NEW_FOLDER, 'diffusion.nii.gz')\n",
    "\n",
    "    os.system('cp {} {}'.format(ORIGIN, DESTIN))\n",
    "    \n",
    "    # Copy bval, bvec, json\n",
    "    for ext in ['bval', 'bvec', 'json']:\n",
    "        ORIGIN = '{}/BIDS/{}.{}'.format(os.path.dirname(os.path.dirname(file)), os.path.basename(file).rsplit('.')[0], ext)\n",
    "        DESTIN = '{}/{}/diffusion.{}'.format(MAIN_FOLDER, NEW_FOLDER, ext)\n",
    "\n",
    "        os.system('cp {} {}'.format(ORIGIN, DESTIN))"
   ]
  },
  {
   "cell_type": "markdown",
   "metadata": {},
   "source": [
    "### Preprocess: Extract brain mask, and DWI to DTI"
   ]
  },
  {
   "cell_type": "code",
   "execution_count": 86,
   "metadata": {},
   "outputs": [
    {
     "name": "stdout",
     "output_type": "stream",
     "text": [
      "Pre-processing -->  /media/thais-caldeira/HD/Unicamp/Mestrado/OASIS3/sub-OAS30001_ses-d0757_dwi\n",
      "Extracting diffusion brain...\n",
      "Calculating DTI...\n",
      "----------------------------------\n",
      "Pre-processing -->  /media/thais-caldeira/HD/Unicamp/Mestrado/OASIS3/sub-OAS30003_ses-d1631_run-01_dwi\n",
      "Extracting diffusion brain...\n",
      "Calculating DTI...\n",
      "----------------------------------\n",
      "Pre-processing -->  /media/thais-caldeira/HD/Unicamp/Mestrado/OASIS3/sub-OAS30003_ses-d1631_run-02_dwi\n",
      "Extracting diffusion brain...\n",
      "Calculating DTI...\n",
      "----------------------------------\n",
      "Pre-processing -->  /media/thais-caldeira/HD/Unicamp/Mestrado/OASIS3/sub-OAS30004_ses-d2232_run-01_dwi\n",
      "Extracting diffusion brain...\n",
      "Calculating DTI...\n",
      "----------------------------------\n",
      "Pre-processing -->  /media/thais-caldeira/HD/Unicamp/Mestrado/OASIS3/sub-OAS30004_ses-d2232_run-02_dwi\n",
      "Extracting diffusion brain...\n",
      "Calculating DTI...\n",
      "----------------------------------\n",
      "Pre-processing -->  /media/thais-caldeira/HD/Unicamp/Mestrado/OASIS3/sub-OAS30005_ses-d2384_run-01_dwi\n",
      "Extracting diffusion brain...\n",
      "Calculating DTI...\n",
      "----------------------------------\n",
      "Pre-processing -->  /media/thais-caldeira/HD/Unicamp/Mestrado/OASIS3/sub-OAS30005_ses-d2384_run-02_dwi\n",
      "Extracting diffusion brain...\n",
      "Calculating DTI...\n",
      "----------------------------------\n",
      "Pre-processing -->  /media/thais-caldeira/HD/Unicamp/Mestrado/OASIS3/sub-OAS30006_ses-d0373_dwi\n",
      "Extracting diffusion brain...\n",
      "Calculating DTI...\n",
      "----------------------------------\n"
     ]
    }
   ],
   "source": [
    "#pre_process_list = ['compute_nifti_DTI', 'brain_extraction_DTI', 'compute_DTI']\n",
    "pre_process_list = ['brain_extraction_DTI', 'compute_DTI']\n",
    "\n",
    "for sub_folder in TO_PROCESS:\n",
    "\n",
    "    print('Pre-processing --> ', sub_folder)\n",
    "    subject_error = []\n",
    "    for pre_process_type in pre_process_list:\n",
    "        pp = pre_process(sub_folder + '/', pre_process_type)\n",
    "        if pp == 2:\n",
    "            subject_error.append(sub_folder + '_' + pre_process_type)\n",
    "        else:\n",
    "            pass\n",
    "            \n",
    "    print('----------------------------------')\n",
    "print('Finished.')"
   ]
  },
  {
   "cell_type": "code",
   "execution_count": null,
   "metadata": {},
   "outputs": [],
   "source": []
  }
 ],
 "metadata": {
  "kernelspec": {
   "display_name": "Python 3",
   "language": "python",
   "name": "python3"
  },
  "language_info": {
   "codemirror_mode": {
    "name": "ipython",
    "version": 3
   },
   "file_extension": ".py",
   "mimetype": "text/x-python",
   "name": "python",
   "nbconvert_exporter": "python",
   "pygments_lexer": "ipython3",
   "version": "3.7.3"
  }
 },
 "nbformat": 4,
 "nbformat_minor": 4
}
