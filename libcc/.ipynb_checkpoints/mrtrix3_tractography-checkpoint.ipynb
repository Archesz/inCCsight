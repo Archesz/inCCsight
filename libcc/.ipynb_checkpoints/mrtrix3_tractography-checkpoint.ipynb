{
 "cells": [
  {
   "cell_type": "code",
   "execution_count": 1,
   "metadata": {},
   "outputs": [
    {
     "ename": "ModuleNotFoundError",
     "evalue": "No module named 'nibabel'",
     "output_type": "error",
     "traceback": [
      "\u001b[0;31m---------------------------------------------------------------------------\u001b[0m",
      "\u001b[0;31mModuleNotFoundError\u001b[0m                       Traceback (most recent call last)",
      "\u001b[0;32m<ipython-input-1-504247f82fd5>\u001b[0m in \u001b[0;36m<module>\u001b[0;34m\u001b[0m\n\u001b[0;32m----> 1\u001b[0;31m \u001b[0;32mimport\u001b[0m \u001b[0mnibabel\u001b[0m \u001b[0;32mas\u001b[0m \u001b[0mnib\u001b[0m\u001b[0;34m\u001b[0m\u001b[0;34m\u001b[0m\u001b[0m\n\u001b[0m\u001b[1;32m      2\u001b[0m \u001b[0;32mimport\u001b[0m \u001b[0mnumpy\u001b[0m \u001b[0;32mas\u001b[0m \u001b[0mnp\u001b[0m\u001b[0;34m\u001b[0m\u001b[0;34m\u001b[0m\u001b[0m\n\u001b[1;32m      3\u001b[0m \u001b[0;32mimport\u001b[0m \u001b[0mos\u001b[0m\u001b[0;34m\u001b[0m\u001b[0;34m\u001b[0m\u001b[0m\n\u001b[1;32m      4\u001b[0m \u001b[0;32mimport\u001b[0m \u001b[0mmatplotlib\u001b[0m\u001b[0;34m.\u001b[0m\u001b[0mpyplot\u001b[0m \u001b[0;32mas\u001b[0m \u001b[0mplt\u001b[0m\u001b[0;34m\u001b[0m\u001b[0;34m\u001b[0m\u001b[0m\n\u001b[1;32m      5\u001b[0m \u001b[0;32mfrom\u001b[0m \u001b[0mtractseg\u001b[0m\u001b[0;34m.\u001b[0m\u001b[0mlibs\u001b[0m \u001b[0;32mimport\u001b[0m \u001b[0mmrtrix\u001b[0m\u001b[0;34m,\u001b[0m \u001b[0mpeak_utils\u001b[0m\u001b[0;34m,\u001b[0m \u001b[0mplot_utils\u001b[0m\u001b[0;34m\u001b[0m\u001b[0;34m\u001b[0m\u001b[0m\n",
      "\u001b[0;31mModuleNotFoundError\u001b[0m: No module named 'nibabel'"
     ]
    }
   ],
   "source": [
    "import nibabel as nib\n",
    "import numpy as np\n",
    "import os\n",
    "import matplotlib.pyplot as plt\n",
    "from tractseg.libs import mrtrix, peak_utils, plot_utils"
   ]
  },
  {
   "cell_type": "markdown",
   "metadata": {},
   "source": [
    "### MNI Registering and fODS"
   ]
  },
  {
   "cell_type": "code",
   "execution_count": null,
   "metadata": {},
   "outputs": [],
   "source": [
    "# Select desired directories\n",
    "\n",
    "dirs = [fname for fname in glob.glob('/media/thais-caldeira/HD/Unicamp/Mestrado/paulo/subjects/*/')]\n",
    "#dirs = [fname for fname in glob.glob('/home/thais-caldeira/Desktop/000268/')]\n",
    "dirs.sort() \n",
    "\n",
    "save_path = \"/media/thais-caldeira/data/tractseg_output/\"\n",
    "\n",
    "for candidate in dirs[0:1]:\n",
    "    \n",
    "    start_time = time.time()\n",
    "    \n",
    "    idx = candidate.rsplit('/',2)[1]\n",
    "    print('Subject ' + str(idx))\n",
    "\n",
    "    input_file = '{}diffusion_{}.nii.gz'.format(candidate, idx)\n",
    "    bvals = '{}diffusion_{}.bval'.format(candidate, idx)\n",
    "    bvecs = '{}diffusion_{}.bvec'.format(candidate, idx)\n",
    "    brain_mask = '{}nodif_brain_mask.nii.gz'.format(candidate)\n",
    "    #output_dir = '{}tractseg_output'.format(candidate)\n",
    "    output_dir = '{}{}'.format(save_path, idx)\n",
    "    \n",
    "    # Make output folder\n",
    "    os.system('mkdir ' + output_dir)\n",
    "    \n",
    "    # Register to MNI space\n",
    "    new_input_file, new_bvals, new_bvecs, new_brain_mask = mrtrix.move_to_MNI_space(dwi, bvals, bvecs, brain_mask, output_dir)\n",
    "    \n",
    "    # Generate new brain_mask\n",
    "    # fsl bet yielded error, using mrtrix3 dwi2mask instead\n",
    "    new_brain_mask = output_dir + \"/nodif_brain_mask_dwi2mask.nii.gz\"\n",
    "    os.system(\"dwi2mask -fslgrad \" + new_bvecs + \" \" + new_bvals + \" \" + new_input_file + \" \" + new_brain_mask)\n",
    "    \n",
    "    # Create fODS (generate peaks.nii.gz)\n",
    "    fods = '{}{}/peaks.nii.gz'.format(save_path, idx)\n",
    "    mrtrix.create_fods(new_input_file, output_dir, new_bvals, new_bvecs, new_brain_mask, csd_type = 'csd_msmt', nr_cpus=-1)\n",
    "    \n",
    "    # Print time\n",
    "    time_taken = time.time() - start_time\n",
    "    print(\"Time to generate peaks: {:.2f} seconds              \".format(time_taken))\n",
    "    print(\"                                                    \")"
   ]
  },
  {
   "cell_type": "markdown",
   "metadata": {},
   "source": [
    "### fODS without MNI Registering?"
   ]
  },
  {
   "cell_type": "code",
   "execution_count": null,
   "metadata": {},
   "outputs": [],
   "source": [
    "# Select desired directories\n",
    "\n",
    "dirs = [fname for fname in glob.glob('/media/thais-caldeira/HD/Unicamp/Mestrado/paulo/subjects/*/')]\n",
    "#dirs = [fname for fname in glob.glob('/home/thais-caldeira/Desktop/000268/')]\n",
    "dirs.sort() \n",
    "\n",
    "save_path = \"/media/thais-caldeira/data/tractseg_output/\"\n",
    "\n",
    "for candidate in dirs[8:9]:\n",
    "    \n",
    "    start_time = time.time()\n",
    "    \n",
    "    idx = candidate.rsplit('/',2)[1]\n",
    "    print('Subject ' + str(idx))\n",
    "\n",
    "    input_file = '{}diffusion_{}.nii.gz'.format(candidate, idx)\n",
    "    bvals = '{}diffusion_{}.bval'.format(candidate, idx)\n",
    "    bvecs = '{}diffusion_{}.bvec'.format(candidate, idx)\n",
    "    brain_mask = '{}nodif_brain_mask.nii.gz'.format(candidate)\n",
    "    #output_dir = '{}tractseg_output'.format(candidate)\n",
    "    output_dir = '{}{}'.format(save_path, idx)\n",
    "    \n",
    "    # Make output folder\n",
    "    os.system('mkdir ' + output_dir)\n",
    "    \n",
    "    # Register to MNI space\n",
    "    #new_input_file, new_bvals, new_bvecs, new_brain_mask = mrtrix.move_to_MNI_space(dwi, bvals, bvecs, brain_mask, output_dir)\n",
    "    \n",
    "    # Generate new brain_mask\n",
    "    # fsl bet yielded error, using mrtrix3 dwi2mask instead\n",
    "    #new_brain_mask = output_dir + \"/nodif_brain_mask_dwi2mask.nii.gz\"\n",
    "    #os.system(\"dwi2mask -fslgrad \" + new_bvecs + \" \" + new_bvals + \" \" + new_input_file + \" \" + new_brain_mask)\n",
    "    \n",
    "    # Create fODS (generate peaks.nii.gz)\n",
    "    fods = '{}{}/peaks.nii.gz'.format(save_path, idx)\n",
    "    mrtrix.create_fods(input_file, output_dir, bvals, bvecs, brain_mask, csd_type = 'csd_msmt', nr_cpus=-1)\n",
    "    \n",
    "    # Print time\n",
    "    time_taken = time.time() - start_time\n",
    "    print(\"Time to generate peaks: {:.2f} seconds              \".format(time_taken))\n",
    "    print(\"                                                    \")"
   ]
  },
  {
   "cell_type": "markdown",
   "metadata": {},
   "source": [
    "### Reload data paths"
   ]
  },
  {
   "cell_type": "code",
   "execution_count": 26,
   "metadata": {},
   "outputs": [],
   "source": [
    "save_path = \"/media/thais-caldeira/data/tractseg_output/\"\n",
    "idx = \"000268\"\n",
    "\n",
    "new_input_file = '{}{}/Diffusion_MNI.nii.gz'.format(save_path, idx)\n",
    "new_bvals = '{}{}/Diffusion_MNI.bvals'.format(save_path, idx)\n",
    "new_bvecs = '{}{}/Diffusion_MNI.bvecs'.format(save_path, idx)\n",
    "new_brain_mask = \"{}{}/nodif_brain_mask_dwi2mask.nii.gz\".format(save_path, idx)\n",
    "fods = '{}{}/peaks.nii.gz'.format(save_path, idx)\n",
    "output_dir = '{}{}'.format(save_path, idx)"
   ]
  },
  {
   "cell_type": "code",
   "execution_count": null,
   "metadata": {},
   "outputs": [],
   "source": [
    "# Select desired directories\n",
    "\n",
    "dirs = [fname for fname in glob.glob('/media/thais-caldeira/HD/Unicamp/Mestrado/paulo/subjects/*/')]\n",
    "dirs.sort() \n",
    "\n",
    "save_path = \"/media/thais-caldeira/data/tractseg_output/\"\n",
    "\n",
    "for candidate in dirs[0:1]:\n",
    "    \n",
    "    start_time = time.time()\n",
    "    \n",
    "    idx = candidate.rsplit('/',2)[1]\n",
    "    print('Subject ' + str(idx))\n",
    "\n",
    "    dwi = '{}diffusion_{}.nii.gz'.format(candidate, idx)\n",
    "    bvals = '{}diffusion_{}.bval'.format(candidate, idx)\n",
    "    bvecs = '{}diffusion_{}.bvec'.format(candidate, idx)\n",
    "    brain_mask = '{}nodif_brain_mask.nii.gz'.format(candidate)\n",
    "    #output_dir = '{}tractseg_output'.format(candidate)\n",
    "    output_dir = '{}{}'.format(save_path, idx)\n",
    "    \n",
    "    # Make output folder\n",
    "    os.system('mkdir ' + output_dir)\n",
    "    \n",
    "    # Register to MNI space\n",
    "    new_input_file, new_bvals, new_bvecs, new_brain_mask = mrtrix.move_to_MNI_space(dwi, bvals, bvecs, brain_mask, output_dir)\n",
    "    \n",
    "    # Generate new brain_mask\n",
    "    # fsl bet yielded error, using mrtrix3 dwi2mask instead\n",
    "    new_brain_mask = output_dir + \"/nodif_brain_mask_dwi2mask.nii.gz\"\n",
    "    os.system(\"dwi2mask -fslgrad \" + new_bvecs + \" \" + new_bvals + \" \" + new_input_file + \" \" + new_brain_mask)\n",
    "    \n",
    "    # Create fODS (generate peaks.nii.gz)\n",
    "    fods = '{}{}/peaks.nii.gz'.format(save_path, idx)\n",
    "    mrtrix.create_fods(new_input_file, output_dir, new_bvals, new_bvecs, new_brain_mask, csd_type = 'csd_msmt', nr_cpus=-1)\n",
    "    \n",
    "    # Print time\n",
    "    time_taken = time.time() - start_time\n",
    "    print(\"Time to generate peaks: {:.2f} seconds              \".format(time_taken))\n",
    "    print(\"                                                    \")"
   ]
  },
  {
   "cell_type": "markdown",
   "metadata": {},
   "source": [
    "### Tractography"
   ]
  },
  {
   "cell_type": "code",
   "execution_count": 46,
   "metadata": {},
   "outputs": [
    {
     "data": {
      "text/plain": [
       "0"
      ]
     },
     "execution_count": 46,
     "metadata": {},
     "output_type": "execute_result"
    }
   ],
   "source": [
    "tck_file = '{}{}/tracks.tck'.format(save_path, idx)\n",
    "roi = '{}{}/roi.mif'.format(save_path, idx)\n",
    "os.system('tckgen -algorithm FACT -force -seed_image '+ new_input_file +' -include '+ roi +' -mask '+ new_brain_mask +' -cutoff 0.35 '+ fods +' '+ tck_file)\n",
    "os.system('mrview '+ new_input_file +' -tractography.load '+ tck_file)"
   ]
  },
  {
   "cell_type": "code",
   "execution_count": 43,
   "metadata": {},
   "outputs": [
    {
     "data": {
      "text/plain": [
       "0"
      ]
     },
     "execution_count": 43,
     "metadata": {},
     "output_type": "execute_result"
    }
   ],
   "source": [
    "os.system('mrview '+ new_input_file +' -tractography.load '+ tck_file)"
   ]
  }
 ],
 "metadata": {
  "kernelspec": {
   "display_name": "Python 3",
   "language": "python",
   "name": "python3"
  },
  "language_info": {
   "codemirror_mode": {
    "name": "ipython",
    "version": 3
   },
   "file_extension": ".py",
   "mimetype": "text/x-python",
   "name": "python",
   "nbconvert_exporter": "python",
   "pygments_lexer": "ipython3",
   "version": "3.6.8"
  }
 },
 "nbformat": 4,
 "nbformat_minor": 2
}
